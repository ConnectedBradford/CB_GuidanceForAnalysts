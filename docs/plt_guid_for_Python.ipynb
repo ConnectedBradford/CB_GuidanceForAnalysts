{
 "cells": [
  {
   "cell_type": "code",
   "execution_count": null,
   "id": "295e0985-96d0-4e80-8239-9bd70c3cd64f",
   "metadata": {},
   "outputs": [],
   "source": [
    "# Import packages\n",
    "import matplotlib.pyplot as plt\n",
    "import numpy as np\n",
    "import pandas as pd"
   ]
  },
  {
   "cell_type": "code",
   "execution_count": null,
   "id": "09e10b9f-9e10-4bcc-b8f1-b14ce2427db9",
   "metadata": {
    "collapsed": true,
    "jupyter": {
     "outputs_hidden": true
    },
    "tags": []
   },
   "outputs": [],
   "source": [
    "# Install Big Query for Pandas\n",
    "pip install --upgrade 'google-cloud-bigquery[bqstorage,pandas]'"
   ]
  },
  {
   "cell_type": "code",
   "execution_count": null,
   "id": "b7460983-6713-4115-a25e-94ef07818698",
   "metadata": {
    "collapsed": true,
    "jupyter": {
     "outputs_hidden": true
    },
    "tags": []
   },
   "outputs": [],
   "source": [
    "# You should only have to do this once\n",
    "%load_ext google.cloud.bigquery"
   ]
  },
  {
   "cell_type": "code",
   "execution_count": null,
   "id": "fcd1d42a-f40b-4a85-b654-bc678d5c32ed",
   "metadata": {
    "collapsed": true,
    "jupyter": {
     "outputs_hidden": true
    },
    "tags": []
   },
   "outputs": [],
   "source": [
    "# %% = the magic cell\n",
    "# run BQ query as normal\n",
    "%%bigquery\n",
    "SELECT Index_of_Multiple_Deprivation_Decile, COUNT(person_id)as count\n",
    " FROM\n",
    "  `yhcr-prd-phm-bia-core.CB_LOOKUPS.tbl_IMD_by_LSOA` a\n",
    "  inner join \n",
    "  `yhcr-prd-phm-bia-core.CB_LOOKUPS.tbl_person_lsoa`b \n",
    "  on a.LSOA_code = b.lsoa\n",
    "  WHERE LSOA_Name LIKE 'Bradford%'\n",
    "  GROUP BY Index_of_Multiple_Deprivation_Decile\n",
    "  order by Index_of_Multiple_Deprivation_Decile asc\n",
    "# Results will print as a table below"
   ]
  },
  {
   "cell_type": "code",
   "execution_count": null,
   "id": "ea467d90-2c94-4606-969e-ab325fe230c4",
   "metadata": {
    "collapsed": true,
    "jupyter": {
     "outputs_hidden": true
    },
    "tags": []
   },
   "outputs": [],
   "source": [
    "# Adding df (or whatever name you want) saves the query as a dataframe that you can then refer to.\n",
    "%%bigquery df\n",
    "SELECT Index_of_Multiple_Deprivation_Decile, COUNT(person_id)as count\n",
    " FROM\n",
    "  `yhcr-prd-phm-bia-core.CB_LOOKUPS.tbl_IMD_by_LSOA` a\n",
    "  inner join \n",
    "  `yhcr-prd-phm-bia-core.CB_LOOKUPS.tbl_person_lsoa`b \n",
    "  on a.LSOA_code = b.lsoa\n",
    "  WHERE LSOA_Name LIKE 'Bradford%'\n",
    "  GROUP BY Index_of_Multiple_Deprivation_Decile\n",
    "  order by Index_of_Multiple_Deprivation_Decile asc"
   ]
  },
  {
   "cell_type": "code",
   "execution_count": null,
   "id": "698238e0-2c55-404d-8307-73d21bc64654",
   "metadata": {},
   "outputs": [
    {
     "data": {
      "image/png": "[encoded data removed]",
      "text/plain": [
       "<Figure size 432x288 with 1 Axes>"
      ]
     },
     "metadata": {
      "needs_background": "light"
     },
     "output_type": "display_data"
    }
   ],
   "source": [
    "# Plt is for matplotlib \n",
    "plt.hist(df['Index_of_Multiple_Deprivation_Decile'], bins=10, weights=df['count'])\n",
    "plt.xlabel('Index of Multiple Deprivation Decile')\n",
    "plt.ylabel('Count')\n",
    "plt.title('Histogram of Bradford IMD Decile')\n",
    "#saves plot as a png\n",
    "plt.savefig('IMD.png', bbox_inches='tight',dpi=300)"
   ]
  },
  {
   "cell_type": "code",
   "execution_count": null,
   "id": "f4889692-6348-4b7e-8d1f-6635b08fc3f1",
   "metadata": {},
   "outputs": [
    {
     "name": "stdout",
     "output_type": "stream",
     "text": [
      "   Index_of_Multiple_Deprivation_Decile     count\n",
      "0                                     1  22828488\n",
      "1                                     2   4491612\n",
      "2                                     3   5547256\n",
      "3                                     4   7420759\n",
      "4                                     5   3321725\n",
      "5                                     6   4716202\n",
      "6                                     7   2401071\n",
      "7                                     8   2293397\n",
      "8                                     9   1305386\n",
      "9                                    10    632939\n"
     ]
    }
   ],
   "source": [
    "# You can also print results here\n",
    "print(df)"
   ]
  }
 ],
 "metadata": {
  "environment": {
   "kernel": "python3",
   "name": "r-cpu.4-1.m90",
   "type": "gcloud",
   "uri": "gcr.io/deeplearning-platform-release/r-cpu.4-1:m90"
  },
  "kernelspec": {
   "display_name": "Python 3",
   "language": "python",
   "name": "python3"
  },
  "language_info": {
   "codemirror_mode": {
    "name": "ipython",
    "version": 3
   },
   "file_extension": ".py",
   "mimetype": "text/x-python",
   "name": "python",
   "nbconvert_exporter": "python",
   "pygments_lexer": "ipython3",
   "version": "3.7.12"
  }
 },
 "nbformat": 4,
 "nbformat_minor": 5
}
