{
 "cells": [
  {
   "cell_type": "code",
   "execution_count": 3,
   "id": "842b9566-0ba2-4539-9641-6e9331534354",
   "metadata": {},
   "outputs": [
    {
     "name": "stderr",
     "output_type": "stream",
     "text": [
      "/opt/conda/lib/python3.7/site-packages/google/auth/_default.py:78: UserWarning: Your application has authenticated using end user credentials from Google Cloud SDK without a quota project. You might receive a \"quota exceeded\" or \"API not enabled\" error. See the following page for troubleshooting: https://cloud.google.com/docs/authentication/adc-troubleshooting/user-creds. \n",
      "  warnings.warn(_CLOUD_SDK_CREDENTIALS_WARNING)\n",
      "/opt/conda/lib/python3.7/site-packages/google/auth/_default.py:78: UserWarning: Your application has authenticated using end user credentials from Google Cloud SDK without a quota project. You might receive a \"quota exceeded\" or \"API not enabled\" error. See the following page for troubleshooting: https://cloud.google.com/docs/authentication/adc-troubleshooting/user-creds. \n",
      "  warnings.warn(_CLOUD_SDK_CREDENTIALS_WARNING)\n"
     ]
    }
   ],
   "source": [
    "from google.cloud import bigquery\n",
    "from google.cloud.bigquery import LoadJobConfig\n",
    "from google.cloud.bigquery import SchemaField\n",
    "\n",
    "\n",
    "import datetime\n",
    "\n",
    "client = bigquery.Client()\n",
    "dataset_ref = client.dataset('CB_MYSPACE_JDB')"
   ]
  },
  {
   "cell_type": "code",
   "execution_count": 7,
   "id": "05454942-453a-498b-a963-bdf7b94865cb",
   "metadata": {},
   "outputs": [
    {
     "name": "stdout",
     "output_type": "stream",
     "text": [
      "test table Loaded 100 rows.\n"
     ]
    },
    {
     "data": {
      "text/plain": [
       "'2024-01-29 16:04:48.341276'"
      ]
     },
     "execution_count": 7,
     "metadata": {},
     "output_type": "execute_result"
    }
   ],
   "source": [
    "#### Create the table tmp_testdata_load\n",
    "\n",
    "### The table tmp_testdata_load has already been loaded into the gco bucket.\n",
    "\n",
    "### This script will create the table \n",
    "## and load teh data from the csv into it\n",
    "\n",
    "\n",
    "## FIRST deifine the schema for the new table \n",
    "schema = [\n",
    "bigquery.SchemaField('person_id', 'STRING', mode='NULLABLE'),\n",
    "bigquery.SchemaField('gender_concept_id', 'STRING', mode='NULLABLE'),\n",
    "bigquery.SchemaField('year_of_birth', 'STRING', mode='NULLABLE'),\n",
    "bigquery.SchemaField('month_of_birth', 'STRING', mode='NULLABLE'),\n",
    "bigquery.SchemaField('day_of_birth', 'STRING', mode='NULLABLE'),\n",
    "bigquery.SchemaField('birth_datetime', 'STRING', mode='NULLABLE'),\n",
    "bigquery.SchemaField('death_datetime', 'STRING', mode='NULLABLE'),\n",
    "bigquery.SchemaField('race_concept_id', 'STRING', mode='NULLABLE'),\n",
    "\n",
    "]\n",
    "\n",
    "\n",
    "## THEN build it but tell it what to build ! \n",
    "table_ref = dataset_ref.table('tmp_testdata_load')\n",
    "table = bigquery.Table(table_ref, schema=schema)\n",
    "table = client.create_table(table)  \n",
    "# API request\n",
    "\n",
    "## THEN load it ! Loading data for tmp_test_data\n",
    "\n",
    "#table_ref = client.dataset('dataset_name').table('table_name')\n",
    "\n",
    "load_config = LoadJobConfig()\n",
    "load_config.skip_leading_rows = 2\n",
    "load_config.field_delimiter=\"|\"\n",
    "write_disposition=\"WRITE_APPEND\"\n",
    "load_config.schema = schema\n",
    "uri = 'gs://yhcr-prd-phm-bia-core-data-landing-bradford/tmp_testdata_load.csv'\n",
    "\n",
    "\n",
    "load_job = client.load_table_from_uri(\n",
    "    uri,\n",
    "    table_ref,\n",
    "    job_config=load_config)\n",
    "\n",
    "load_job.result()\n",
    "\n",
    "\n",
    "dt = datetime.datetime.now() # use now() method in datetime.\n",
    "\n",
    "destination_table = client.get_table(table_ref)\n",
    "print('test table Loaded {} rows.'.format(destination_table.num_rows))\n",
    "(str (dt) )"
   ]
  }
 ],
 "metadata": {
  "environment": {
   "kernel": "python3",
   "name": "r-cpu.4-2.m110",
   "type": "gcloud",
   "uri": "gcr.io/deeplearning-platform-release/r-cpu.4-2:m110"
  },
  "kernelspec": {
   "display_name": "Python 3",
   "language": "python",
   "name": "python3"
  },
  "language_info": {
   "codemirror_mode": {
    "name": "ipython",
    "version": 3
   },
   "file_extension": ".py",
   "mimetype": "text/x-python",
   "name": "python",
   "nbconvert_exporter": "python",
   "pygments_lexer": "ipython3",
   "version": "3.7.12"
  }
 },
 "nbformat": 4,
 "nbformat_minor": 5
}
