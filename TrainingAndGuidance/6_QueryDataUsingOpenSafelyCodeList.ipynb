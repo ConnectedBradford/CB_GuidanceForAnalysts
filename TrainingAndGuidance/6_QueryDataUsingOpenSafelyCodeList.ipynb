{
 "cells": [
  {
   "cell_type": "code",
   "execution_count": 1,
   "id": "493ad4a8-15f9-4050-a609-0d55f104b8d5",
   "metadata": {},
   "outputs": [
    {
     "name": "stderr",
     "output_type": "stream",
     "text": [
      "\n",
      "Attaching package: ‘lubridate’\n",
      "\n",
      "\n",
      "The following objects are masked from ‘package:base’:\n",
      "\n",
      "    date, intersect, setdiff, union\n",
      "\n",
      "\n"
     ]
    }
   ],
   "source": [
    "#5_QueryDataUsingOpenSafelyCodelist.ipynb\n",
    "\n",
    "\n",
    "\n",
    "library(bigrquery)\n",
    "library(lubridate) # required for datetime\n",
    "\n",
    "\n",
    "\n",
    "project_id = \"yhcr-prd-phm-bia-core\"\n",
    "\n",
    "targetdb <-'yhcr-prd-phm-bia-core.CB_MYSPACE_JDB'\n",
    "sourcedb <-'yhcr-prd-phm-bia-core.CB_FDM_PrimaryCare_V8'\n",
    "\n"
   ]
  },
  {
   "cell_type": "code",
   "execution_count": 3,
   "id": "6daf25f2-4597-4e80-8d4c-e1a3c0a7a9cc",
   "metadata": {},
   "outputs": [],
   "source": [
    "sql63 <-paste('SELECT distinct per.person_id \n",
    ", date_diff(current_date,birth_datetime,YEAR) as age\n",
    ", sr.dateeventrecorded\n",
    " FROM ', targetdb , '.tuberculosis tub\n",
    " , ' ,sourcedb,'.tbl_srcode sr\n",
    " , ' ,sourcedb,'.person per\n",
    " where tub.code = sr.ctv3code\n",
    " and sr.person_id = per.person_id \n",
    " and sr.dateeventrecorded >\"1969-12-31 23:59:59\" ', sep = \"\")\n",
    "\n",
    "tb63 <-bq_project_query(project_id, sql63)\n",
    "\n",
    "\n",
    "table <- bq_table_download(tb63)\n",
    "# This line below just displays the data.\n",
    "#table \n",
    "\n"
   ]
  }
 ],
 "metadata": {
  "environment": {
   "kernel": "ir",
   "name": "r-cpu.4-2.m110",
   "type": "gcloud",
   "uri": "gcr.io/deeplearning-platform-release/r-cpu.4-2:m110"
  },
  "kernelspec": {
   "display_name": "R",
   "language": "R",
   "name": "ir"
  },
  "language_info": {
   "codemirror_mode": "r",
   "file_extension": ".r",
   "mimetype": "text/x-r-source",
   "name": "R",
   "pygments_lexer": "r",
   "version": "4.3.1"
  }
 },
 "nbformat": 4,
 "nbformat_minor": 5
}
