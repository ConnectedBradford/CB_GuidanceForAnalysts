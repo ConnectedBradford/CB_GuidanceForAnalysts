{
 "cells": [
  {
   "cell_type": "code",
   "execution_count": 10,
   "id": "bb3bc8c9-d6e4-4f39-8ee9-5a840c2591b2",
   "metadata": {},
   "outputs": [
    {
     "name": "stdout",
     "output_type": "stream",
     "text": [
      "[1] \"yhcr-prd-phm-bia-core.CB_MYSPACE_Airelogic\"\n",
      "[1] \"yhcr-prd-phm-bia-core.CB_FDM_MASTER\"\n"
     ]
    }
   ],
   "source": [
    "#Induction_3_RunASimpleQuery.sql\n",
    "#You will need to manually amend the target datasets for this script\n",
    "\n",
    "library(bigrquery)\n",
    "\n",
    "# Store the project ID\n",
    "project_id = \"yhcr-prd-phm-bia-core\"\n",
    "\n",
    "# Amend these to \"point\" at the datasets you want to query\n",
    "\n",
    "targetdb2 <-'yhcr-prd-phm-bia-core.CB_MYSPACE_Airelogic'\n",
    "targetdb2 <-gsub(' ','',targetdb2)\n",
    "print (targetdb1)\n",
    "\n",
    "\n",
    "targetdb1 <-'yhcr-prd-phm-bia-core.CB_FDM_MASTER'\n",
    "targetdb1 <-gsub(' ','',targetdb1)\n",
    "print (targetdb1)\n"
   ]
  },
  {
   "cell_type": "code",
   "execution_count": 4,
   "id": "afe032c5-494a-4e3a-b5be-11f54921bccd",
   "metadata": {},
   "outputs": [
    {
     "data": {
      "text/plain": [
       "[[1]]\n",
       "<bq_table> yhcr-prd-phm-bia-core.CB_MYSPACE_Airelogic.asa_table\n",
       "\n",
       "[[2]]\n",
       "<bq_table> yhcr-prd-phm-bia-core.CB_MYSPACE_Airelogic.mortality_asa_table\n",
       "\n",
       "[[3]]\n",
       "<bq_table> yhcr-prd-phm-bia-core.CB_MYSPACE_Airelogic.test\n"
      ]
     },
     "metadata": {},
     "output_type": "display_data"
    }
   ],
   "source": [
    "#List the tables in a dataset \n",
    "tables = bq_dataset_tables('yhcr-prd-phm-bia-core.CB_MYSPACE_Airelogic')\n",
    "#This displays it\n",
    "tables"
   ]
  },
  {
   "cell_type": "code",
   "execution_count": 11,
   "id": "62a0c48b-a8c5-4f78-93f5-fc8ebe75f516",
   "metadata": {},
   "outputs": [
    {
     "data": {
      "text/html": [
       "<table class=\"dataframe\">\n",
       "<caption>A tibble: 14 × 2</caption>\n",
       "<thead>\n",
       "\t<tr><th scope=col>person_id</th><th scope=col>age</th></tr>\n",
       "\t<tr><th scope=col>&lt;int&gt;</th><th scope=col>&lt;int&gt;</th></tr>\n",
       "</thead>\n",
       "<tbody>\n",
       "\t<tr><td>10427032</td><td>2</td></tr>\n",
       "\t<tr><td>10669389</td><td>1</td></tr>\n",
       "\t<tr><td>11104017</td><td>3</td></tr>\n",
       "\t<tr><td>12403442</td><td>1</td></tr>\n",
       "\t<tr><td>12412236</td><td>2</td></tr>\n",
       "\t<tr><td>12444743</td><td>2</td></tr>\n",
       "\t<tr><td>12532921</td><td>3</td></tr>\n",
       "\t<tr><td>12772481</td><td>1</td></tr>\n",
       "\t<tr><td>13233935</td><td>2</td></tr>\n",
       "\t<tr><td>13302660</td><td>2</td></tr>\n",
       "\t<tr><td>13432898</td><td>3</td></tr>\n",
       "\t<tr><td>13567427</td><td>1</td></tr>\n",
       "\t<tr><td>13584861</td><td>2</td></tr>\n",
       "\t<tr><td>14793228</td><td>1</td></tr>\n",
       "</tbody>\n",
       "</table>\n"
      ],
      "text/latex": [
       "A tibble: 14 × 2\n",
       "\\begin{tabular}{ll}\n",
       " person\\_id & age\\\\\n",
       " <int> & <int>\\\\\n",
       "\\hline\n",
       "\t 10427032 & 2\\\\\n",
       "\t 10669389 & 1\\\\\n",
       "\t 11104017 & 3\\\\\n",
       "\t 12403442 & 1\\\\\n",
       "\t 12412236 & 2\\\\\n",
       "\t 12444743 & 2\\\\\n",
       "\t 12532921 & 3\\\\\n",
       "\t 12772481 & 1\\\\\n",
       "\t 13233935 & 2\\\\\n",
       "\t 13302660 & 2\\\\\n",
       "\t 13432898 & 3\\\\\n",
       "\t 13567427 & 1\\\\\n",
       "\t 13584861 & 2\\\\\n",
       "\t 14793228 & 1\\\\\n",
       "\\end{tabular}\n"
      ],
      "text/markdown": [
       "\n",
       "A tibble: 14 × 2\n",
       "\n",
       "| person_id &lt;int&gt; | age &lt;int&gt; |\n",
       "|---|---|\n",
       "| 10427032 | 2 |\n",
       "| 10669389 | 1 |\n",
       "| 11104017 | 3 |\n",
       "| 12403442 | 1 |\n",
       "| 12412236 | 2 |\n",
       "| 12444743 | 2 |\n",
       "| 12532921 | 3 |\n",
       "| 12772481 | 1 |\n",
       "| 13233935 | 2 |\n",
       "| 13302660 | 2 |\n",
       "| 13432898 | 3 |\n",
       "| 13567427 | 1 |\n",
       "| 13584861 | 2 |\n",
       "| 14793228 | 1 |\n",
       "\n"
      ],
      "text/plain": [
       "   person_id age\n",
       "1  10427032  2  \n",
       "2  10669389  1  \n",
       "3  11104017  3  \n",
       "4  12403442  1  \n",
       "5  12412236  2  \n",
       "6  12444743  2  \n",
       "7  12532921  3  \n",
       "8  12772481  1  \n",
       "9  13233935  2  \n",
       "10 13302660  2  \n",
       "11 13432898  3  \n",
       "12 13567427  1  \n",
       "13 13584861  2  \n",
       "14 14793228  1  "
      ]
     },
     "metadata": {},
     "output_type": "display_data"
    }
   ],
   "source": [
    "\n",
    "#Define the query\n",
    "sql3 <-paste('select distinct a.person_id, a.age\n",
    "from  ',targetdb2,'.mortality_asa_table a \n",
    ", ',targetdb1,'.person b \n",
    "where a.person_id = b.person_id \n",
    "and b.birth_datetime > \"2020-05-01\" \n",
    "order by a.person_id limit 1000  ;', sep = \"\")\n",
    "\n",
    "#This runs it\n",
    "tb3 <- bq_project_query(project_id, sql3)\n",
    "\n",
    "#This loads  it into an R data frame called table\n",
    "table <- bq_table_download(tb3)\n",
    "#This displays it\n",
    "table"
   ]
  }
 ],
 "metadata": {
  "environment": {
   "kernel": "ir",
   "name": "r-cpu.4-2.m110",
   "type": "gcloud",
   "uri": "gcr.io/deeplearning-platform-release/r-cpu.4-2:m110"
  },
  "kernelspec": {
   "display_name": "R",
   "language": "R",
   "name": "ir"
  },
  "language_info": {
   "codemirror_mode": "r",
   "file_extension": ".r",
   "mimetype": "text/x-r-source",
   "name": "R",
   "pygments_lexer": "r",
   "version": "4.3.1"
  }
 },
 "nbformat": 4,
 "nbformat_minor": 5
}
