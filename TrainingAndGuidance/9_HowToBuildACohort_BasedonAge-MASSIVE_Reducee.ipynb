{
 "cells": [
  {
   "cell_type": "code",
   "execution_count": 8,
   "id": "bb3bc8c9-d6e4-4f39-8ee9-5a840c2591b2",
   "metadata": {},
   "outputs": [
    {
     "name": "stdout",
     "output_type": "stream",
     "text": [
      "[1] \"yhcr-prd-phm-bia-core.CB_FDM_PrimaryCare_V8\"\n",
      "[1] \"yhcr-prd-phm-bia-core.CB_MYSPACE_JDB\"\n"
     ]
    }
   ],
   "source": [
    "#PART1\n",
    "#You will need to manually amend the target datasets for this script\n",
    "\n",
    "library(bigrquery)\n",
    "library(pryr)\n",
    "\n",
    "# Store the project ID\n",
    "project_id = \"yhcr-prd-phm-bia-core\"\n",
    "\n",
    "# Amend these to \"point\" at the datasets you want to query\n",
    "targetdb1 <-'yhcr-prd-phm-bia-core.CB_FDM_PrimaryCare_V8'\n",
    "targetdb1 <-gsub(' ','',targetdb1)\n",
    "print (targetdb1)\n",
    "\n",
    "targetdb2 <-'yhcr-prd-phm-bia-core.CB_MYSPACE_JDB'\n",
    "targetdb2 <-gsub(' ','',targetdb2)\n",
    "print (targetdb2)"
   ]
  },
  {
   "cell_type": "code",
   "execution_count": 9,
   "id": "62a0c48b-a8c5-4f78-93f5-fc8ebe75f516",
   "metadata": {},
   "outputs": [],
   "source": [
    "#Were going to build a temporary cohort table in our personal space\n",
    "\n",
    "sql3 <-paste('create or replace table ',targetdb2,'.tmp_cohort \n",
    "as SELECT distinct b.person_id,\n",
    "DATE_DIFF(CURRENT_DATE(),b.birth_datetime,YEAR) as age\n",
    "FROM ',targetdb1,'.person b \n",
    "where DATE_DIFF(CURRENT_DATE(),birth_datetime,YEAR) >= 64 \n",
    "and DATE_DIFF(CURRENT_DATE(),birth_datetime,YEAR) <=95\n",
    "and death_datetime is not null ;', sep = \"\")\n",
    "#This runs it\n",
    "tb3 <- bq_project_query(project_id, sql3)\n",
    "\n",
    "#We don't need to load it into a dataframe\n",
    "#table <- bq_table_download(tb3)\n"
   ]
  },
  {
   "cell_type": "code",
   "execution_count": 11,
   "id": "c43f1ced-7f5d-4b41-a78d-66b915419aa7",
   "metadata": {},
   "outputs": [
    {
     "data": {
      "text/plain": [
       "13.76 MB"
      ]
     },
     "metadata": {},
     "output_type": "display_data"
    }
   ],
   "source": [
    "# Now we join our cohort table : tmp_cohort\n",
    "# to the sr_code table \n",
    "#and then run it.\n",
    "\n",
    "sql5 <-paste('select distinct \n",
    "b.person_id, \n",
    "a.ctv3code\n",
    " from ',targetdb1,'.tbl_srcode a,\n",
    "',targetdb2,'.tmp_cohort b \n",
    "where a.person_id = b.person_id \n",
    "limit 1000000', sep = \"\")\n",
    "#This runs it\n",
    "tb5 <- bq_project_query(project_id, sql5)\n",
    "\n",
    "#This loads  it into an R data frame\n",
    "table2 <- bq_table_download(tb5)\n",
    "#This displays it\n",
    "#table2\n",
    "\n",
    "object_size(table2)"
   ]
  }
 ],
 "metadata": {
  "environment": {
   "kernel": "ir",
   "name": "r-cpu.4-2.m110",
   "type": "gcloud",
   "uri": "gcr.io/deeplearning-platform-release/r-cpu.4-2:m110"
  },
  "kernelspec": {
   "display_name": "R",
   "language": "R",
   "name": "ir"
  },
  "language_info": {
   "codemirror_mode": "r",
   "file_extension": ".r",
   "mimetype": "text/x-r-source",
   "name": "R",
   "pygments_lexer": "r",
   "version": "4.3.1"
  }
 },
 "nbformat": 4,
 "nbformat_minor": 5
}
