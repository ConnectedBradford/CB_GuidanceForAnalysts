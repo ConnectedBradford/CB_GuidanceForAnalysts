{
 "cells": [
  {
   "cell_type": "code",
   "execution_count": 1,
   "id": "bb3bc8c9-d6e4-4f39-8ee9-5a840c2591b2",
   "metadata": {},
   "outputs": [
    {
     "name": "stdout",
     "output_type": "stream",
     "text": [
      "[1] \"yhcr-prd-phm-bia-core.CB_FDM_PrimaryCare_V8\"\n",
      "[1] \"yhcr-prd-phm-bia-core.CB_MYSPACE_JDB\"\n"
     ]
    }
   ],
   "source": [
    "#PART1\n",
    "#You will need to manually amend the target datasets for this script\n",
    "\n",
    "library(bigrquery)\n",
    "library(pryr)\n",
    "\n",
    "\n",
    "# Store the project ID\n",
    "project_id = \"yhcr-prd-phm-bia-core\"\n",
    "\n",
    "# Amend these to \"point\" at the datasets you want to query\n",
    "\n",
    "targetdb1 <-'yhcr-prd-phm-bia-core.CB_FDM_PrimaryCare_V8'\n",
    "targetdb1 <-gsub(' ','',targetdb1)\n",
    "print (targetdb1)\n",
    "\n",
    "\n",
    "\n",
    "targetdb2 <-'yhcr-prd-phm-bia-core.CB_MYSPACE_JDB'\n",
    "targetdb2 <-gsub(' ','',targetdb2)\n",
    "print (targetdb2)\n",
    "\n"
   ]
  },
  {
   "cell_type": "code",
   "execution_count": 2,
   "id": "62a0c48b-a8c5-4f78-93f5-fc8ebe75f516",
   "metadata": {},
   "outputs": [],
   "source": [
    "#Were going to build a dataframe with everything we need in it\n",
    "#ready to analyse\n",
    "\n",
    "sql3 <-paste('SELECT b.*\n",
    "FROM ',targetdb1,'.person b \n",
    "where DATE_DIFF(CURRENT_DATE(),birth_datetime,YEAR) >= 64 \n",
    "and DATE_DIFF(CURRENT_DATE(),birth_datetime,YEAR) <=95\n",
    "and death_datetime is not null ;', sep = \"\")\n",
    "#This runs it\n",
    "tb3 <- bq_project_query(project_id, sql3)\n",
    "\n",
    "#This loads  it into an R data frame\n",
    "table <- bq_table_download(tb3)\n",
    "#This displays it\n",
    "#table"
   ]
  },
  {
   "cell_type": "code",
   "execution_count": 3,
   "id": "14b3e121-49c4-403b-8494-f643b289978e",
   "metadata": {},
   "outputs": [
    {
     "name": "stderr",
     "output_type": "stream",
     "text": [
      "Warning message in as.integer.integer64(x):\n",
      "“NAs produced by integer overflow”\n"
     ]
    }
   ],
   "source": [
    "# Now were going to run the same query but join it to the srcode table\n",
    "\n",
    "# Were just going to go ahead and build a huge dataframe based on the first query and the second \n",
    "\n",
    "sql5 <-paste('select distinct \n",
    "a.*, \n",
    "b.*\n",
    " from ',targetdb1,'.tbl_srcode a,\n",
    "',targetdb1,'.person b \n",
    "where a.person_id = b.person_id \n",
    "and DATE_DIFF(CURRENT_DATE(),birth_datetime,YEAR) >= 64 \n",
    "and DATE_DIFF(CURRENT_DATE(),birth_datetime,YEAR) <=95\n",
    "and death_datetime is not null limit 1000000', sep = \"\")\n",
    "#This runs it\n",
    "tb5 <- bq_project_query(project_id, sql5)\n",
    "\n",
    "#This loads  it into an R data frame\n",
    "table <- bq_table_download(tb5)\n",
    "#This displays it\n",
    "#table"
   ]
  },
  {
   "cell_type": "code",
   "execution_count": 4,
   "id": "04c92fb5-4623-4896-be05-f622dd3553c2",
   "metadata": {},
   "outputs": [
    {
     "data": {
      "text/plain": [
       "371.26 MB"
      ]
     },
     "metadata": {},
     "output_type": "display_data"
    }
   ],
   "source": [
    "#This dataset contains the total number of columns of both tables \n",
    "#and 86,128,614 rows of data if not limited to 1000000 rows.\n",
    "\n",
    "#object_size(mean)\n",
    "object_size(table)\n",
    "\n",
    "#The object size for 1 million rows is 370mb.\n",
    "#so for the full dataset this would be \n",
    "#31,906 Mb (approx 28Gb) "
   ]
  }
 ],
 "metadata": {
  "environment": {
   "kernel": "ir",
   "name": "r-cpu.4-2.m110",
   "type": "gcloud",
   "uri": "gcr.io/deeplearning-platform-release/r-cpu.4-2:m110"
  },
  "kernelspec": {
   "display_name": "R",
   "language": "R",
   "name": "ir"
  },
  "language_info": {
   "codemirror_mode": "r",
   "file_extension": ".r",
   "mimetype": "text/x-r-source",
   "name": "R",
   "pygments_lexer": "r",
   "version": "4.3.1"
  }
 },
 "nbformat": 4,
 "nbformat_minor": 5
}
