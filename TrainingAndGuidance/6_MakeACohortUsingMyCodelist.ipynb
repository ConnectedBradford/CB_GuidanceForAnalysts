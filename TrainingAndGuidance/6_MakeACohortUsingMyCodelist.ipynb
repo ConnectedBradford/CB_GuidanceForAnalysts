{
 "cells": [
  {
   "cell_type": "code",
   "execution_count": 2,
   "id": "493ad4a8-15f9-4050-a609-0d55f104b8d5",
   "metadata": {},
   "outputs": [],
   "source": [
    "#6_MakeACohortUsingMyCodelist.ipynb\n",
    "\n",
    "library(bigrquery)\n",
    "library(lubridate) # required for datetime\n",
    "\n",
    "project_id = \"yhcr-prd-phm-bia-core\"\n",
    "\n",
    "sourcedb <-'yhcr-prd-phm-bia-core.CB_MYSPACE_JDB'\n",
    "targetdb <-'yhcr-prd-phm-bia-core.CB_FDM_PrimaryCare_V8'\n",
    "\n"
   ]
  },
  {
   "cell_type": "code",
   "execution_count": 10,
   "id": "6daf25f2-4597-4e80-8d4c-e1a3c0a7a9cc",
   "metadata": {},
   "outputs": [],
   "source": [
    "sql63 <-paste('create or replace table ', sourcedb , '.tmp_cohort \n",
    "as SELECT distinct per.*\n",
    " FROM ', sourcedb , '.tuberculosis tub\n",
    " , ' ,targetdb,'.tbl_srcode sr\n",
    " , ' ,targetdb,'.person per\n",
    " where tub.code = sr.ctv3code\n",
    " and sr.person_id = per.person_id  ', sep = \"\")\n",
    "\n",
    "tb63 <-bq_project_query(project_id, sql63)\n",
    "\n",
    "\n",
    "\n",
    "table <- bq_table_download(tb63)\n",
    "# This line below just displays the data.\n",
    "#table \n",
    "\n"
   ]
  },
  {
   "cell_type": "code",
   "execution_count": 8,
   "id": "87129ab7-a150-48d0-b014-97bbc7a7b847",
   "metadata": {},
   "outputs": [],
   "source": [
    "sql63 <-paste('SELECT *  FROM ', sourcedb , '.tmp_cohort ', sep = \"\")\n",
    "\n",
    "tb63 <-bq_project_query(project_id, sql63)\n",
    "\n",
    "# This loads the data onto a dataframe called table\n",
    "table <- bq_table_download(tb63)\n",
    "\n",
    "\n",
    "#This shows it\n",
    "#table"
   ]
  },
  {
   "cell_type": "code",
   "execution_count": null,
   "id": "25ae2fac-3a19-47a8-ad91-e14c341282f2",
   "metadata": {},
   "outputs": [],
   "source": []
  }
 ],
 "metadata": {
  "environment": {
   "kernel": "ir",
   "name": "r-cpu.4-2.m110",
   "type": "gcloud",
   "uri": "gcr.io/deeplearning-platform-release/r-cpu.4-2:m110"
  },
  "kernelspec": {
   "display_name": "R",
   "language": "R",
   "name": "ir"
  },
  "language_info": {
   "codemirror_mode": "r",
   "file_extension": ".r",
   "mimetype": "text/x-r-source",
   "name": "R",
   "pygments_lexer": "r",
   "version": "4.3.1"
  }
 },
 "nbformat": 4,
 "nbformat_minor": 5
}
