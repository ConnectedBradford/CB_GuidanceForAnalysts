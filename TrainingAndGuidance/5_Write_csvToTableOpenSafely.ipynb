{
 "cells": [
  {
   "cell_type": "code",
   "execution_count": 2,
   "id": "04df4c2b-c394-405e-abc2-cb78907a3e7e",
   "metadata": {},
   "outputs": [],
   "source": [
    "library(bigrquery)\n",
    "\n",
    "\n",
    "# Before running this section please upload a suitable file containing ctv3 or snomed codes that you ant to look for in the date.\n",
    "# For those users on the BRI networl cvs's may not upload due to network restrictions.\n",
    "# If that is the case rename the the file to remove the .csv suffice, so tuberculosis.csv would be \n",
    "# renamed to just tuberculosis. It should then upload into your notebook without issues.\n",
    "\n",
    "\n",
    "\n",
    "# This is the codelist of ctv3codes I want to look for.\n",
    "# I've uploaded it to my notebook \n",
    "# so now just need to load it into a dataframe \n",
    "\n",
    "data <- read.csv(\"tuberculosis\")\n",
    "#data"
   ]
  },
  {
   "cell_type": "code",
   "execution_count": 3,
   "id": "11b84e2b-d26d-41a5-90ce-66742196e3d7",
   "metadata": {},
   "outputs": [],
   "source": [
    "\n",
    "# Once in a dataframe I can then  create a table in CB_MYSPACE_JDB (amend as necessary for your space)\n",
    "\n",
    "mybq = bq_table(project='yhcr-prd-phm-bia-core', dataset='CB_MYSPACE_JDB', table='tuberculosis')\n",
    "bq_table_upload(x=mybq, values=data, create_disposition='CREATE_IF_NEEDED', \n",
    "                write_disposition='WRITE_APPEND')\n",
    "\n",
    "\n",
    "# Once this is done I can now use it in a query.\n",
    "# Open 5_QueryDataUsingOpenSafelyCodelist.ipynb"
   ]
  }
 ],
 "metadata": {
  "environment": {
   "kernel": "ir",
   "name": "r-cpu.4-2.m110",
   "type": "gcloud",
   "uri": "gcr.io/deeplearning-platform-release/r-cpu.4-2:m110"
  },
  "kernelspec": {
   "display_name": "R",
   "language": "R",
   "name": "ir"
  },
  "language_info": {
   "codemirror_mode": "r",
   "file_extension": ".r",
   "mimetype": "text/x-r-source",
   "name": "R",
   "pygments_lexer": "r",
   "version": "4.3.1"
  }
 },
 "nbformat": 4,
 "nbformat_minor": 5
}
