{
 "cells": [
  {
   "cell_type": "code",
   "execution_count": 1,
   "id": "6e16ce5e-4515-4766-8f54-dcd078a83a25",
   "metadata": {},
   "outputs": [],
   "source": [
    "from google.cloud import bigquery"
   ]
  },
  {
   "cell_type": "code",
   "execution_count": 2,
   "id": "1059e54c-e799-43fe-88fc-e190ccb16288",
   "metadata": {},
   "outputs": [],
   "source": [
    "# Set up the BigQuery client\n",
    "client = bigquery.Client()"
   ]
  },
  {
   "cell_type": "code",
   "execution_count": 3,
   "id": "6dedb390-5445-4dc1-a60b-762dda4c536e",
   "metadata": {},
   "outputs": [],
   "source": [
    "# Set the project and dataset IDs for the table\n",
    "project_id = 'yhcr-prd-phm-bia-core'\n",
    "dataset_id = 'CB_FDM_AdultSocialCare'\n",
    "table_id = 'tbl_assessments_data_dict'"
   ]
  },
  {
   "cell_type": "code",
   "execution_count": 4,
   "id": "4e63c1ab-b3bc-4a47-bb2f-848c3718a795",
   "metadata": {},
   "outputs": [],
   "source": [
    "# Set the name of the column and the old and new string values you want to change\n",
    "column_name = 'variable_name'\n",
    "old_string_value = 'src_MonthAndYearOfBirth'\n",
    "new_string_value = 'MonthAndYearOfBirth'"
   ]
  },
  {
   "cell_type": "code",
   "execution_count": 5,
   "id": "5d689e2c-88e6-4923-b510-58f03b67d03c",
   "metadata": {},
   "outputs": [],
   "source": [
    "# Define the SQL query to update the values in the column\n",
    "sql_query = f\"\"\"\n",
    "    UPDATE `{project_id}.{dataset_id}.{table_id}`\n",
    "    SET {column_name} = REPLACE({column_name}, '{old_string_value}', '{new_string_value}')\n",
    "    WHERE {column_name} LIKE '%{old_string_value}%'\n",
    "\"\"\""
   ]
  },
  {
   "cell_type": "code",
   "execution_count": 6,
   "id": "3c900b1e-b586-46fa-9aae-11af4993cf51",
   "metadata": {},
   "outputs": [],
   "source": [
    "# Run the query to update the values in the column\n",
    "job_config = bigquery.QueryJobConfig()\n",
    "job_config.use_legacy_sql = False\n",
    "query_job = client.query(sql_query, job_config=job_config)"
   ]
  },
  {
   "cell_type": "code",
   "execution_count": 7,
   "id": "f0076b3c-0203-464c-a6ea-0b48340187a9",
   "metadata": {},
   "outputs": [
    {
     "data": {
      "text/plain": [
       "<google.cloud.bigquery.table._EmptyRowIterator at 0x7f78e4019750>"
      ]
     },
     "execution_count": 7,
     "metadata": {},
     "output_type": "execute_result"
    }
   ],
   "source": [
    "# Wait for the query to finish\n",
    "query_job.result()"
   ]
  },
  {
   "cell_type": "code",
   "execution_count": 8,
   "id": "f6dabd4c-63af-4c4a-9f82-20a036aca05f",
   "metadata": {},
   "outputs": [
    {
     "name": "stdout",
     "output_type": "stream",
     "text": [
      "String value changed from 'src_MonthAndYearOfBirth' to 'MonthAndYearOfBirth' in column 'variable_name' of table 'tbl_assessments_data_dict'\n"
     ]
    }
   ],
   "source": [
    "print(f\"String value changed from '{old_string_value}' to '{new_string_value}' in column '{column_name}' of table '{table_id}'\")"
   ]
  },
  {
   "cell_type": "code",
   "execution_count": null,
   "id": "c8dedc48-23b2-48bf-b722-295818f4ae9d",
   "metadata": {},
   "outputs": [],
   "source": []
  }
 ],
 "metadata": {
  "environment": {
   "kernel": "python3",
   "name": "r-cpu.4-1.m90",
   "type": "gcloud",
   "uri": "gcr.io/deeplearning-platform-release/r-cpu.4-1:m90"
  },
  "kernelspec": {
   "display_name": "Python 3",
   "language": "python",
   "name": "python3"
  },
  "language_info": {
   "codemirror_mode": {
    "name": "ipython",
    "version": 3
   },
   "file_extension": ".py",
   "mimetype": "text/x-python",
   "name": "python",
   "nbconvert_exporter": "python",
   "pygments_lexer": "ipython3",
   "version": "3.7.12"
  }
 },
 "nbformat": 4,
 "nbformat_minor": 5
}
