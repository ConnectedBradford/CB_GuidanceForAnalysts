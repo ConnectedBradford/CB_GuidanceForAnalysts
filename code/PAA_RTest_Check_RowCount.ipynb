{
 "cells": [
  {
   "cell_type": "code",
   "execution_count": 16,
   "id": "71bbb18b-03de-4534-a018-32ef735129ec",
   "metadata": {},
   "outputs": [
    {
     "name": "stderr",
     "output_type": "stream",
     "text": [
      "Installing package into ‘/home/jupyter/.R/library’\n",
      "(as ‘lib’ is unspecified)\n",
      "\n"
     ]
    }
   ],
   "source": [
    "install.packages(\"bigrquery\")"
   ]
  },
  {
   "cell_type": "code",
   "execution_count": 3,
   "id": "be4db8d7-98e2-401d-b7e1-1aa23c1ddce2",
   "metadata": {},
   "outputs": [
    {
     "name": "stdout",
     "output_type": "stream",
     "text": [
      "Table: tbl_maternity_pathway_antenatal, Source Rows: 36747, Target Rows: 36747\n",
      "Row counts match.\n",
      "Table: tbl_autism_amalgamated_ptl_oct2022, Source Rows: 6405, Target Rows: 6405\n",
      "Row counts match.\n",
      "Table: tbl_spell, Source Rows: 1735392, Target Rows: 1735392\n",
      "Row counts match.\n"
     ]
    }
   ],
   "source": [
    "library(bigrquery)\n",
    "# Using specified table names.\n",
    "# Project ID and databases\n",
    "project_id <- \"yhcr-prd-phm-bia-core\"\n",
    "source_db <- \"yhcr-prd-phm-bia-core.CB_STAGING_DATABASE_WAREHOUSE_FDM_Format\"\n",
    "target_db <- \"yhcr-prd-phm-bia-core.CB_MYSPACE_PAA\"\n",
    "\n",
    "# Specific tables to check\n",
    "tables_to_check <- c(\n",
    "  \"tbl_maternity_pathway_antenatal\",\n",
    "  \"tbl_autism_amalgamated_ptl_oct2022\",\n",
    "  \"tbl_spell\"\n",
    ")\n",
    "\n",
    "# Function to get row count\n",
    "get_row_count <- function(dataset_id, table_name, project_id) {\n",
    "  query <- paste(\"SELECT COUNT(*) as row_count FROM `\", dataset_id, \".\", table_name, \"`\", sep = \"\")\n",
    "  result <- bq_project_query(project_id, query)\n",
    "  row_count <- bq_table_download(result)\n",
    "  return(row_count$row_count)\n",
    "}\n",
    "\n",
    "# Loop through each table and compare row counts\n",
    "for (table in tables_to_check) {\n",
    "  source_count <- get_row_count(source_db, table, project_id)\n",
    "  target_count <- get_row_count(target_db, table, project_id)\n",
    "  cat(sprintf(\"Table: %s, Source Rows: %d, Target Rows: %d\\n\", table, source_count, target_count))\n",
    "  if (source_count == target_count) {\n",
    "    cat(\"Row counts match.\\n\")\n",
    "  } else {\n",
    "    cat(\"Row counts do not match.\\n\")\n",
    "  }\n",
    "}"
   ]
  },
  {
   "cell_type": "code",
   "execution_count": null,
   "id": "63e6eb55-4eeb-451a-9e72-2864f2c5dc12",
   "metadata": {},
   "outputs": [],
   "source": []
  },
  {
   "cell_type": "code",
   "execution_count": null,
   "id": "81be8051-74b8-47c2-853a-4d16ff015537",
   "metadata": {},
   "outputs": [],
   "source": []
  },
  {
   "cell_type": "code",
   "execution_count": 36,
   "id": "7af3250b-8891-43ce-9e16-886dcdb67ef5",
   "metadata": {
    "tags": []
   },
   "outputs": [
    {
     "name": "stdout",
     "output_type": "stream",
     "text": [
      "Table: cb_PMH_MaternityDataset, Source Rows: 6093, Target Rows: 6093\n",
      "Row counts match.\n",
      "Table: cb_ae_detail, Source Rows: 5617410, Target Rows: 5617410\n",
      "Row counts match.\n",
      "Table: cb_episode_diagnosis, Source Rows: 9800742, Target Rows: 9800742\n",
      "Row counts match.\n",
      "Table: cb_episode_procedure, Source Rows: 2969016, Target Rows: 2969016\n",
      "Row counts match.\n",
      "Table: cb_maternity_delivery, Source Rows: 44828, Target Rows: 44828\n",
      "Row counts match.\n",
      "Table: cb_maternity_mother_child_relationship, Source Rows: 38428, Target Rows: 38428\n",
      "Row counts match.\n",
      "Table: cb_maternity_pathway_postnatal, Source Rows: 31134, Target Rows: 31134\n",
      "Row counts match.\n",
      "Table: cb_mother_child_relationship, Source Rows: 41606, Target Rows: 41606\n",
      "Row counts match.\n",
      "Table: cb_patient, Source Rows: 1240917, Target Rows: 1240917\n",
      "Row counts match.\n",
      "Table: cb_ward_lkp, Source Rows: 5626, Target Rows: 5626\n",
      "Row counts match.\n",
      "Table: lookup_ward, Source Rows: 5626, Target Rows: 5626\n",
      "Row counts match.\n",
      "Table: tbl_ae, Source Rows: 1961205, Target Rows: 1751776\n",
      "Row counts do not match.\n",
      "Table: tbl_ae_investigation_nautilus, Source Rows: 8144479, Target Rows: 7668079\n",
      "Row counts do not match.\n",
      "Table: tbl_ae_nautilus, Source Rows: 837226, Target Rows: 736079\n",
      "Row counts do not match.\n",
      "Table: tbl_ae_timings_nautilus, Source Rows: 906953, Target Rows: 689030\n",
      "Row counts do not match.\n",
      "Table: tbl_ae_treatment_nautilus, Source Rows: 2872766, Target Rows: 2426396\n",
      "Row counts do not match.\n",
      "Table: tbl_apc_finished_susplus, Source Rows: 472273, Target Rows: 423926\n",
      "Row counts do not match.\n",
      "Table: tbl_autism_amalgamated_ptl_oct2022, Source Rows: 6405, Target Rows: 6405\n",
      "Row counts match.\n",
      "Table: tbl_critical_care_ICNARC_observation, Source Rows: 19776, Target Rows: 14924\n",
      "Row counts do not match.\n",
      "Table: tbl_critical_care_adult, Source Rows: 21744, Target Rows: 19875\n",
      "Row counts do not match.\n",
      "Table: tbl_critical_care_full_data_2015_2021, Source Rows: 13697, Target Rows: 13119\n",
      "Row counts do not match.\n",
      "Table: tbl_critical_care_neonatal, Source Rows: 6649, Target Rows: 2648\n",
      "Row counts do not match.\n",
      "Table: tbl_critical_care_neonatal_daily, Source Rows: 87997, Target Rows: 87997\n",
      "Row counts match.\n",
      "Table: tbl_ec_backward_compatible_susplus, Source Rows: 266786, Target Rows: 230771\n",
      "Row counts do not match.\n",
      "Table: tbl_episode, Source Rows: 2015939, Target Rows: 1865981\n",
      "Row counts do not match.\n",
      "Table: tbl_maternity_birth, Source Rows: 44985, Target Rows: 40675\n",
      "Row counts do not match.\n",
      "Table: tbl_maternity_care_plan, Source Rows: 41305, Target Rows: 40977\n",
      "Row counts do not match.\n",
      "Table: tbl_maternity_pathway_antenatal, Source Rows: 36747, Target Rows: 36568\n",
      "Row counts do not match.\n",
      "Table: tbl_maternity_pregnancy_and_booking_details, Source Rows: 15306, Target Rows: 15304\n",
      "Row counts do not match.\n",
      "Table: tbl_outpatient, Source Rows: 9081195, Target Rows: 8665218\n",
      "Row counts do not match.\n",
      "Table: tbl_outpatients_susplus, Source Rows: 1994629, Target Rows: 1890447\n",
      "Row counts do not match.\n",
      "Table: tbl_pharmacy, Source Rows: 2367730, Target Rows: 2292909\n",
      "Row counts do not match.\n",
      "Table: tbl_radiology, Source Rows: 4233986, Target Rows: 4065071\n",
      "Row counts do not match.\n",
      "Table: tbl_spell, Source Rows: 1735392, Target Rows: 1591326\n",
      "Row counts do not match.\n",
      "Table: tbl_theatre, Source Rows: 148456, Target Rows: 122421\n",
      "Row counts do not match.\n",
      "Table: tbl_ward_stay, Source Rows: 2916252, Target Rows: 2681116\n",
      "Row counts do not match.\n"
     ]
    }
   ],
   "source": [
    "library(bigrquery)\n",
    "\n",
    "# Using specified table names.\n",
    "# Project ID and databases\n",
    "project_id <- \"yhcr-prd-phm-bia-core\"\n",
    "source_db <- \"yhcr-prd-phm-bia-core.CB_STAGING_DATABASE_WAREHOUSE_FDM_Format\"\n",
    "target_db <- \"yhcr-prd-phm-bia-core.CB_FDM_BradfordRoyalInfirmary\"\n",
    "\n",
    "# Function to get row count\n",
    "get_row_count <- function(dataset_id, table_name, project_id) {\n",
    "  query <- paste(\"SELECT COUNT(*) as row_count FROM `\", dataset_id, \".\", table_name, \"`\", sep = \"\")\n",
    "  result <- bq_project_query(project_id, query)\n",
    "  row_count <- bq_table_download(result)\n",
    "  return(row_count$row_count)\n",
    "}\n",
    "\n",
    "# Function to get all tables in a dataset\n",
    "get_all_tables <- function(dataset_id, project_id) {\n",
    "  query <- paste(\"SELECT table_id as table_name FROM `\", dataset_id, \".__TABLES_SUMMARY__`\", sep = \"\")\n",
    "  result <- bq_project_query(project_id, query)\n",
    "  tables <- bq_table_download(result)\n",
    "  return(tables$table_name)\n",
    "}\n",
    "\n",
    "\n",
    "# Get all tables in source and target databases\n",
    "source_tables <- get_all_tables(source_db, project_id)\n",
    "target_tables <- get_all_tables(target_db, project_id)\n",
    "\n",
    "# Only keep tables that are in both source and target\n",
    "tables_to_check <- intersect(source_tables, target_tables)\n",
    "\n",
    "# Loop through each table and compare row counts\n",
    "for (table in tables_to_check) {\n",
    "  source_count <- get_row_count(source_db, table, project_id)\n",
    "  target_count <- get_row_count(target_db, table, project_id)\n",
    "  cat(sprintf(\"Table: %s, Source Rows: %d, Target Rows: %d\\n\", table, source_count, target_count))\n",
    "  if (source_count == target_count) {\n",
    "    cat(\"Row counts match.\\n\")\n",
    "  } else {\n",
    "    cat(\"Row counts do not match.\\n\")\n",
    "  }\n",
    "}\n"
   ]
  },
  {
   "cell_type": "code",
   "execution_count": null,
   "id": "8fbbc332-36a4-4630-9378-552cb6d1b987",
   "metadata": {},
   "outputs": [],
   "source": []
  }
 ],
 "metadata": {
  "environment": {
   "kernel": "ir",
   "name": ".m120",
   "type": "gcloud",
   "uri": "us-docker.pkg.dev/deeplearning-platform-release/gcr.io/:m120"
  },
  "kernelspec": {
   "display_name": "R",
   "language": "R",
   "name": "ir"
  },
  "language_info": {
   "codemirror_mode": "r",
   "file_extension": ".r",
   "mimetype": "text/x-r-source",
   "name": "R",
   "pygments_lexer": "r",
   "version": "4.3.3"
  }
 },
 "nbformat": 4,
 "nbformat_minor": 5
}
