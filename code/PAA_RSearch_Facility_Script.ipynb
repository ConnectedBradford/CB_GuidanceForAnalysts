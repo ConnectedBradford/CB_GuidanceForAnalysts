{
 "cells": [
  {
   "cell_type": "code",
   "execution_count": 1,
   "id": "8bf5c528-b4eb-400c-9884-9d33c418bbae",
   "metadata": {
    "tags": []
   },
   "outputs": [
    {
     "name": "stderr",
     "output_type": "stream",
     "text": [
      "Installing package into ‘/home/jupyter/.R/library’\n",
      "(as ‘lib’ is unspecified)\n",
      "\n"
     ]
    }
   ],
   "source": [
    "# Install the required package if you haven't already\n",
    "install.packages(\"bigrquery\")"
   ]
  },
  {
   "cell_type": "code",
   "execution_count": 7,
   "id": "80b7abf8-a43b-4eb2-a016-be172e9acbce",
   "metadata": {
    "tags": []
   },
   "outputs": [
    {
     "name": "stderr",
     "output_type": "stream",
     "text": [
      "Installing package into ‘/home/jupyter/.R/library’\n",
      "(as ‘lib’ is unspecified)\n",
      "\n"
     ]
    }
   ],
   "source": [
    "# Install the magrittr package\n",
    "install.packages(\"magrittr\")"
   ]
  },
  {
   "cell_type": "code",
   "execution_count": 9,
   "id": "243113a8-2f2d-476d-b847-7126771f32eb",
   "metadata": {
    "tags": []
   },
   "outputs": [
    {
     "name": "stderr",
     "output_type": "stream",
     "text": [
      "Installing package into ‘/home/jupyter/.R/library’\n",
      "(as ‘lib’ is unspecified)\n",
      "\n"
     ]
    }
   ],
   "source": [
    "# Install the dplyr package\n",
    "install.packages(\"dplyr\")"
   ]
  },
  {
   "cell_type": "code",
   "execution_count": 10,
   "id": "be9c051e-045b-42dd-9863-e05442581d9e",
   "metadata": {
    "tags": []
   },
   "outputs": [
    {
     "name": "stderr",
     "output_type": "stream",
     "text": [
      "\n",
      "Attaching package: ‘dplyr’\n",
      "\n",
      "\n",
      "The following objects are masked from ‘package:stats’:\n",
      "\n",
      "    filter, lag\n",
      "\n",
      "\n",
      "The following objects are masked from ‘package:base’:\n",
      "\n",
      "    intersect, setdiff, setequal, union\n",
      "\n",
      "\n"
     ]
    },
    {
     "name": "stdout",
     "output_type": "stream",
     "text": [
      "[1] \"An error occurred: Error in UseMethod(\\\"collect\\\"): no applicable method for 'collect' applied to an object of class \\\"bq_table\\\"\\n\"\n",
      "[1] \"An error occurred: Error in UseMethod(\\\"collect\\\"): no applicable method for 'collect' applied to an object of class \\\"bq_table\\\"\\n\"\n"
     ]
    }
   ],
   "source": [
    "# Load the required packages\n",
    "library(bigrquery)\n",
    "library(magrittr)\n",
    "library(dplyr)\n",
    "# The %>% operator is part of the magrittr package, which provides a mechanism for chaining commands together in a way that is easy\n",
    "# to read and understand.\n",
    "# Set up your project ID, dataset ID, table name, and search parameters\n",
    "project_id <- \"yhcr-prd-phm-bia-core\"\n",
    "dataset_id <- \"CB_FDM_BradfordRoyalInfirmary\"\n",
    "table_name <- \"tbl_pharmacy\"\n",
    "search_column <- \"drug_description\"\n",
    "search_phrase <- \"prednisolone\"\n",
    "\n",
    "# Define the function to search the database\n",
    "search_database <- function(project_id, dataset_id, table_name, search_column, search_phrase) {\n",
    "  tryCatch({\n",
    "    # Construct the SQL query\n",
    "    query <- paste0(\"\n",
    "      SELECT *\n",
    "      FROM `\", project_id, \".\", dataset_id, \".\", table_name, \"`\n",
    "      WHERE \", search_column, \" LIKE '%\", search_phrase, \"%';\n",
    "    \")\n",
    "\n",
    "    # Execute the query and return the result as a data frame\n",
    "    result <- bigrquery::bq_project_query(project_id, query)\n",
    "    # Retrieve the data as a data frame\n",
    "    result_df <- result %>% collect()\n",
    "    # Extract the relevant columns from the result\n",
    "    relevant_columns <- colnames(result_df) %in% search_column\n",
    "    return(result_df[, relevant_columns])\n",
    "  },\n",
    "  error = function(e) {\n",
    "    print(paste0(\"An error occurred: \", e))\n",
    "  })\n",
    "}\n",
    "\n",
    "# Call the function with the search parameters\n",
    "df <- search_database(project_id, dataset_id, table_name, search_column, search_phrase)\n",
    "\n",
    "# Print the first few rows of the result\n",
    "print(head(df))\n"
   ]
  },
  {
   "cell_type": "code",
   "execution_count": null,
   "id": "445d95fe-1cad-4d53-8998-ab4cc482c8dd",
   "metadata": {},
   "outputs": [],
   "source": [
    "# The errors I encountered above is because the collect() function from the dplyr package is not compatible with \n",
    "# the bq_table object returned by the bigrquery package.\n",
    "\n",
    "# To retrieve the data from a BigQuery query as a data frame, you can use the bq_table_download() function from the bigrquery package. This function downloads the data from the BigQuery table to a local data frame.\n",
    "\n",
    "# the updated code with the bq_table_download() function is below:"
   ]
  },
  {
   "cell_type": "code",
   "execution_count": 11,
   "id": "37ec540b-7bf0-47e4-b98f-8f6507459891",
   "metadata": {
    "tags": []
   },
   "outputs": [
    {
     "name": "stdout",
     "output_type": "stream",
     "text": [
      "\u001b[90m# A tibble: 6 × 1\u001b[39m\n",
      "  drug_description                                    \n",
      "  \u001b[3m\u001b[90m<chr>\u001b[39m\u001b[23m                                               \n",
      "\u001b[90m1\u001b[39m Methylprednisolone IV Infusion - adults (500mg vial)\n",
      "\u001b[90m2\u001b[39m Methylprednisolone IV Infusion - adults (500mg vial)\n",
      "\u001b[90m3\u001b[39m Methylprednisolone IV Infusion - adults (500mg vial)\n",
      "\u001b[90m4\u001b[39m Methylprednisolone IV Infusion - adults (1g vial)   \n",
      "\u001b[90m5\u001b[39m Methylprednisolone IV Infusion - adults (500mg vial)\n",
      "\u001b[90m6\u001b[39m Methylprednisolone IV Infusion - adults (500mg vial)\n"
     ]
    }
   ],
   "source": [
    "# Load the required packages\n",
    "library(bigrquery)\n",
    "\n",
    "# Set up your project ID, dataset ID, table name, and search parameters\n",
    "project_id <- \"yhcr-prd-phm-bia-core\"\n",
    "dataset_id <- \"CB_FDM_BradfordRoyalInfirmary\"\n",
    "table_name <- \"tbl_pharmacy\"\n",
    "search_column <- \"drug_description\"\n",
    "search_phrase <- \"prednisolone\"\n",
    "\n",
    "# Define the function to search the database\n",
    "search_database <- function(project_id, dataset_id, table_name, search_column, search_phrase) {\n",
    "  tryCatch({\n",
    "    # Construct the SQL query\n",
    "    query <- paste0(\"\n",
    "      SELECT *\n",
    "      FROM `\", project_id, \".\", dataset_id, \".\", table_name, \"`\n",
    "      WHERE \", search_column, \" LIKE '%\", search_phrase, \"%';\n",
    "    \")\n",
    "\n",
    "    # Execute the query and return the result as a data frame\n",
    "    result <- bigrquery::bq_project_query(project_id, query)\n",
    "    # Download the data as a data frame\n",
    "    result_df <- bigrquery::bq_table_download(result)\n",
    "    # Extract the relevant columns from the result\n",
    "    relevant_columns <- colnames(result_df) %in% search_column\n",
    "    return(result_df[, relevant_columns])\n",
    "  },\n",
    "  error = function(e) {\n",
    "    print(paste0(\"An error occurred: \", e))\n",
    "  })\n",
    "}\n",
    "\n",
    "# Call the function with the search parameters\n",
    "df <- search_database(project_id, dataset_id, table_name, search_column, search_phrase)\n",
    "\n",
    "# Print the first few rows of the result\n",
    "print(head(df))\n"
   ]
  },
  {
   "cell_type": "code",
   "execution_count": null,
   "id": "ed323832-00ee-49b5-82b0-e0b713961b02",
   "metadata": {},
   "outputs": [],
   "source": []
  }
 ],
 "metadata": {
  "environment": {
   "kernel": "ir",
   "name": ".m120",
   "type": "gcloud",
   "uri": "us-docker.pkg.dev/deeplearning-platform-release/gcr.io/:m120"
  },
  "kernelspec": {
   "display_name": "R",
   "language": "R",
   "name": "ir"
  },
  "language_info": {
   "codemirror_mode": "r",
   "file_extension": ".r",
   "mimetype": "text/x-r-source",
   "name": "R",
   "pygments_lexer": "r",
   "version": "4.3.3"
  }
 },
 "nbformat": 4,
 "nbformat_minor": 5
}
