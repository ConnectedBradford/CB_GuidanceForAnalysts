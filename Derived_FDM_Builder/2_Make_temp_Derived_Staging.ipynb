{
 "cells": [
  {
   "cell_type": "code",
   "execution_count": 9,
   "id": "37b5bd88-c53f-4344-9d18-ab046a29a3d9",
   "metadata": {},
   "outputs": [
    {
     "name": "stdout",
     "output_type": "stream",
     "text": [
      "[1] \"yhcr-prd-phm-bia-core.CB_FDM_PrimaryCare_V8\"\n",
      "[1] \"yhcr-prd-phm-bia-core.CB_FDM_Warehouse_V3\"\n",
      "[1] \"yhcr-prd-phm-bia-core.CB_MYSPACE_JDB\"\n"
     ]
    }
   ],
   "source": [
    "#Make_DereivedStagingTables.ipynb\n",
    "##last modified 20230309 \n",
    "\n",
    "#You will need to manually amend the target dataset for this script\n",
    "#The target dataset is a termporary location into which you build objects that will then be used to build the fdm\n",
    "\n",
    "\n",
    "library(bigrquery)\n",
    "library(lubridate) \n",
    "\n",
    "# Store the project ID\n",
    "project_id = \"yhcr-prd-phm-bia-core\"\n",
    "\n",
    "# This script uses the primary care FDM  and the warehouse FDM for its data .\n",
    "\n",
    "sourcedb1 <-\"yhcr-prd-phm-bia-core.CB_FDM_PrimaryCare_V8\"\n",
    "\n",
    "# This can be a number of datasets for this example I am just using the warehouse\n",
    "sourcedb2 <-\"yhcr-prd-phm-bia-core.CB_FDM_Warehouse_V3\"\n",
    "#sourcedb3 <-\"yhcr-prd-phm-bia-core.CB_STAGING_DATABASE_SUS_Airedale_FDM_Format\"\n",
    "\n",
    "targetdb <-\"yhcr-prd-phm-bia-core.CB_MYSPACE_JDB\"\n",
    "\n",
    "print (sourcedb1) \n",
    "print (sourcedb2) \n",
    "print (targetdb)\n",
    "#print(lookups)\n",
    "\n"
   ]
  },
  {
   "cell_type": "code",
   "execution_count": 10,
   "id": "6532cb54-eef9-4abf-86d7-4b665ea25dad",
   "metadata": {},
   "outputs": [],
   "source": [
    "# So I want to build teh cohort from Pirimayr Care , so I need that bit done first \n",
    "# I'm going to use the primary care.tbl_srcode table and the temp table we loaded \n",
    "# in this case it is cardio - but it could be any other code list\n",
    "\n",
    "# first I'm going to build a temp table for teh cohot person_id\n",
    "\n",
    "\n",
    "sql4 <-paste('drop table if exists ',targetdb,'.tmp_cohort;', sep = \"\")\n",
    "tb4 <-bq_project_query(project_id, sql4)\n",
    "\n",
    "sql5 <-paste(' create table ',targetdb,'.tmp_cohort\n",
    "as \n",
    "select distinct person_id  from ',sourcedb1,'.tbl_srcode cc\n",
    "WHERE CTV3Code IN (select Code from ',targetdb,'.tmp_cardio)\n",
    "and person_id in (\n",
    "select person_id \n",
    " from CB_FDM_MASTER.person \n",
    " where DATE_DIFF(current_date(), birth_datetime, YEAR) >64\n",
    " and death_datetime is null) ', sep = \"\")\n",
    "tb5 <-bq_project_query(project_id, sql5)"
   ]
  },
  {
   "cell_type": "code",
   "execution_count": 11,
   "id": "e97bd5e1-e99e-4c5d-96d9-26db33be08fd",
   "metadata": {},
   "outputs": [],
   "source": [
    "# Now I'll copy tbl_Srcode into myspace\n",
    "\n",
    "sql4 <-paste('drop table if exists ',targetdb,'.tbl_srcode;', sep = \"\")\n",
    "tb4 <-bq_project_query(project_id, sql4)\n",
    "\n",
    "\n",
    "sql5 <-paste(' create table ',targetdb,'.tbl_srcode \n",
    "as \n",
    "select cc.* \n",
    "from ',sourcedb1,'.tbl_srcode cc ,\n",
    "',targetdb,'.tmp_cohort co \n",
    "where cc.person_id = co.person_id', sep = \"\")\n",
    "tb5 <-bq_project_query(project_id, sql5)\n",
    "\n",
    "\n",
    "# This copies the tbl_srcode into our space but only for those patients\n",
    "# in the cardio table\n",
    "# and ages over 64 "
   ]
  },
  {
   "cell_type": "code",
   "execution_count": 12,
   "id": "b914701a-8252-4c78-a5b1-b4adf9615950",
   "metadata": {},
   "outputs": [],
   "source": [
    "# This section is where I copy in the other source tables (again just for teh demographic above \n",
    "# using the tmp_cohort table I created earier\n",
    "\n",
    "sql5 <-paste('drop table if exists ',targetdb,'.tbl_ae_nautilus;', sep = \"\")\n",
    "tb5 <-bq_project_query(project_id, sql5)\n",
    "\n",
    "sql8 <-paste('create or replace TABLE ', targetdb , '.tbl_ae_nautilus\n",
    "as \n",
    "SELECT \n",
    "src.* FROM ',sourcedb2,'.tbl_ae_nautilus src ,\n",
    "',targetdb,'.tmp_cohort co \n",
    "where src.person_id = co.person_id', sep = \"\")\n",
    "\n",
    "tb8 <-bq_project_query(project_id, sql8)"
   ]
  },
  {
   "cell_type": "code",
   "execution_count": 13,
   "id": "38f3ccee-56b3-44f9-a6a2-9113eda53ec2",
   "metadata": {},
   "outputs": [],
   "source": [
    "\n",
    "# Now I just repeat - adding in any source tables (for that cohort) to my space\n",
    "# preparing it to be FDM'd\n",
    "\n",
    "sql6 <-paste('drop table if exists ',targetdb,'.tbl_apc_finished_susplus;', sep = \"\")\n",
    "tb6 <-bq_project_query(project_id, sql6)\n",
    "\n",
    "\n",
    "sql9<-paste('create or replace TABLE ', targetdb , '.tbl_apc_finished_susplus \n",
    "as \n",
    "Select \n",
    "src.* FROM ', sourcedb2,'.tbl_apc_finished_susplus  src ,\n",
    "',targetdb,'.tmp_cohort co \n",
    "where src.person_id = co.person_id', sep = \"\")\n",
    "\n",
    "tb9 <-bq_project_query(project_id, sql9)"
   ]
  },
  {
   "cell_type": "code",
   "execution_count": null,
   "id": "84e4cd9e-6098-42fe-91e3-ec10cea5cfd8",
   "metadata": {},
   "outputs": [],
   "source": [
    "# ADD IN NEW TABLES AS REQUIRED."
   ]
  }
 ],
 "metadata": {
  "environment": {
   "kernel": "ir",
   "name": "r-cpu.4-2.m110",
   "type": "gcloud",
   "uri": "gcr.io/deeplearning-platform-release/r-cpu.4-2:m110"
  },
  "kernelspec": {
   "display_name": "R",
   "language": "R",
   "name": "ir"
  },
  "language_info": {
   "codemirror_mode": "r",
   "file_extension": ".r",
   "mimetype": "text/x-r-source",
   "name": "R",
   "pygments_lexer": "r",
   "version": "4.3.1"
  }
 },
 "nbformat": 4,
 "nbformat_minor": 5
}
