{
 "cells": [
  {
   "cell_type": "code",
   "execution_count": 2,
   "id": "04df4c2b-c394-405e-abc2-cb78907a3e7e",
   "metadata": {},
   "outputs": [],
   "source": [
    "library(bigrquery)\n",
    "\n",
    "\n",
    "# Before running this section please upload a suitable file containing ctv3 or \n",
    "# snomed codes that you want to look for in the data.\n",
    "# For those users on the BRI network cvs's may not upload due to network restrictions.\n",
    "# If that is the case rename the file to remove the .csv or .txt suffice, so filename.csv would be \n",
    "# renamed to just filename. It should then upload into your notebook without issues.\n",
    "\n",
    "\n",
    "# so now just need to load it into a dataframe \n",
    "\n",
    "data <- read.csv(\"cardio\")\n",
    "\n",
    "# Then load it into a table \n",
    "\n",
    "mybq = bq_table(project='yhcr-prd-phm-bia-core', dataset='CB_MYSPACE_JDB', table='tmp_cardio')\n",
    "bq_table_upload(x=mybq, values=data, create_disposition='CREATE_IF_NEEDED', \n",
    "                write_disposition='WRITE_APPEND')"
   ]
  },
  {
   "cell_type": "code",
   "execution_count": null,
   "id": "e58f028b-9d18-4d96-91e0-6e01b0fdae89",
   "metadata": {},
   "outputs": [],
   "source": []
  }
 ],
 "metadata": {
  "environment": {
   "kernel": "ir",
   "name": "r-cpu.4-2.m110",
   "type": "gcloud",
   "uri": "gcr.io/deeplearning-platform-release/r-cpu.4-2:m110"
  },
  "kernelspec": {
   "display_name": "R",
   "language": "R",
   "name": "ir"
  },
  "language_info": {
   "codemirror_mode": "r",
   "file_extension": ".r",
   "mimetype": "text/x-r-source",
   "name": "R",
   "pygments_lexer": "r",
   "version": "4.3.1"
  }
 },
 "nbformat": 4,
 "nbformat_minor": 5
}
